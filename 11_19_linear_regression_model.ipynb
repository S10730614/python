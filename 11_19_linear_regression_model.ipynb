{
  "nbformat": 4,
  "nbformat_minor": 0,
  "metadata": {
    "colab": {
      "name": "11_19_linear_regression_model.ipynb",
      "version": "0.3.2",
      "provenance": [],
      "collapsed_sections": []
    },
    "kernelspec": {
      "display_name": "Python 2",
      "language": "python",
      "name": "python2"
    }
  },
  "cells": [
    {
      "metadata": {
        "id": "ez0fTZcoy-Jd",
        "colab_type": "text"
      },
      "cell_type": "markdown",
      "source": [
        "Use shift-enter to execute a code block and move to the next one."
      ]
    },
    {
      "metadata": {
        "id": "rFj66weLy-Jf",
        "colab_type": "code",
        "colab": {}
      },
      "cell_type": "code",
      "source": [
        "# 1.1 Import tensorflow and other libraries.\n",
        "import tensorflow as tf\n",
        "import numpy as np\n",
        "\n",
        "%matplotlib inline\n",
        "import pylab"
      ],
      "execution_count": 0,
      "outputs": []
    },
    {
      "metadata": {
        "id": "JeetJ3hhy-Jm",
        "colab_type": "code",
        "outputId": "29a57ad0-a67c-4ef1-9733-8f79bd8fbb06",
        "colab": {
          "base_uri": "https://localhost:8080/",
          "height": 282
        }
      },
      "cell_type": "code",
      "source": [
        "# 1.2 Create input data using NumPy. y = x * 0.1 + 0.3 + noise\n",
        "#x_data = np.random.rand(100).astype(np.float32)\n",
        "#noise = np.random.normal(scale=0.01, size=len(x_data))\n",
        "#y_data = x_data * 2 + -5 + noise\n",
        "\n",
        "\n",
        "x_data = np.linspace(0, 50, 1000)\n",
        "y_data =  1000.0-((200.0/(x_data+3.5)-2.0)*x_data)\n",
        "\n",
        "\n",
        "# Uncomment the following line to plot our input data.\n",
        "pylab.plot(x_data, y_data,)\n"
      ],
      "execution_count": 31,
      "outputs": [
        {
          "output_type": "execute_result",
          "data": {
            "text/plain": [
              "[<matplotlib.lines.Line2D at 0x7f999931ad50>]"
            ]
          },
          "metadata": {
            "tags": []
          },
          "execution_count": 31
        },
        {
          "output_type": "display_data",
          "data": {
            "image/png": "[encoded data removed]",
            "text/plain": [
              "<matplotlib.figure.Figure at 0x7f9999392110>"
            ]
          },
          "metadata": {
            "tags": []
          }
        }
      ]
    },
    {
      "metadata": {
        "id": "bb6cs7fdy-Jq",
        "colab_type": "code",
        "colab": {}
      },
      "cell_type": "code",
      "source": [
        "# 1.3 Buld inference graph.\n",
        "# Create Variables W and b that compute y_data = W * x_data + b\n",
        "a = 8\n",
        "y = tf.Variable(tf.random_uniform([1], 0.0, 30.0))\n",
        "#b = tf.Variable(tf.zeros([1]))\n",
        "\n",
        "\n",
        "# Uncomment the following lines to see W and b are.\n",
        "#print(x)\n",
        "#print(b)"
      ],
      "execution_count": 0,
      "outputs": []
    },
    {
      "metadata": {
        "scrolled": true,
        "id": "ZMg5NPX-y-Ju",
        "colab_type": "code",
        "colab": {}
      },
      "cell_type": "code",
      "source": [
        "# 1.4 Build training graph.\n",
        "loss = tf.reduce_mean( 1000.0-((200.0/(y+3.5)-2.0)*y))  # Create an operation that calculates loss.\n",
        "optimizer = tf.train.GradientDescentOptimizer(0.5)  # Create an optimizer.\n",
        "train = optimizer.minimize(loss)  # Create an operation that minimizes loss.\n",
        "init = tf.initialize_all_variables()  # Create an operation initializes all the variables.\n",
        "\n",
        "# Uncomment the following 3 lines to see what 'loss', 'optimizer' and 'train' are.\n",
        "#print(\"loss:\", loss)\n",
        "#print(\"optimizer:\", optimizer)\n",
        "#print(\"train:\", train)\n",
        "#print(init)"
      ],
      "execution_count": 0,
      "outputs": []
    },
    {
      "metadata": {
        "id": "WXFC1v7qy-J0",
        "colab_type": "code",
        "colab": {}
      },
      "cell_type": "code",
      "source": [
        "# 1.5 Uncomment the following line to see what we have built.\n",
        "#print(tf.get_default_graph().as_graph_def())"
      ],
      "execution_count": 0,
      "outputs": []
    },
    {
      "metadata": {
        "id": "oVY6K0DEy-J3",
        "colab_type": "code",
        "outputId": "65004fcd-fdca-46b2-ffee-e3a79821d6c4",
        "colab": {
          "base_uri": "https://localhost:8080/",
          "height": 34
        }
      },
      "cell_type": "code",
      "source": [
        "# 1.6 Create a session and launch the graph.\n",
        "sess = tf.Session()\n",
        "sess.run(init)\n",
        "#y_initial_values = sess.run(y)  # Save initial values for plotting later.\n",
        "\n",
        "# Uncomment the following line to see the initial W and b values.\n",
        "print(sess.run([y]))"
      ],
      "execution_count": 35,
      "outputs": [
        {
          "output_type": "stream",
          "text": [
            "[array([14.403555], dtype=float32)]\n"
          ],
          "name": "stdout"
        }
      ]
    },
    {
      "metadata": {
        "id": "p3b5a6bKy-J6",
        "colab_type": "code",
        "outputId": "b108fbfe-ccf9-469d-fb0b-ad4e95669bd3",
        "colab": {
          "base_uri": "https://localhost:8080/",
          "height": 34
        }
      },
      "cell_type": "code",
      "source": [
        "# 1.7 Perform training.\n",
        "for step in range(1000):\n",
        "    sess.run(train)\n",
        "    # Uncomment the following two lines to watch training happen real time.\n",
        "    #if step % 20 == 0:\n",
        "        #print(step, sess.run([W, b]))\n",
        "\n",
        "print(sess.run([y]))"
      ],
      "execution_count": 36,
      "outputs": [
        {
          "output_type": "stream",
          "text": [
            "[array([15.208284], dtype=float32)]\n"
          ],
          "name": "stdout"
        }
      ]
    },
    {
      "metadata": {
        "id": "tMkZsifGy-J8",
        "colab_type": "code",
        "colab": {}
      },
      "cell_type": "code",
      "source": [
        "# 1.8 Uncomment the following lines to compare.\n",
        "#ylab.plot(x_data, y_data, '.', label=\"target_values\")\n",
        "#ylab.plot(x_data, y_initial_values, \".\", label=\"initial_values\")\n",
        "#ylab.plot(x_data, sess.run(y), \".\", label=\"trained_values\")\n",
        "#ylab.legend()\n",
        "#ylab.ylim(-5,2.0)"
      ],
      "execution_count": 0,
      "outputs": []
    },
    {
      "metadata": {
        "id": "KAPegr4ky-J-",
        "colab_type": "text"
      },
      "cell_type": "markdown",
      "source": [
        "<p>Back to [0_tf_hello_world.ipynb](0_tf_hello_world.ipynb).</p>\n",
        "<p>Next to [2_mnist.ipynb](2_mnist.ipynb).</p>"
      ]
    }
  ]
}