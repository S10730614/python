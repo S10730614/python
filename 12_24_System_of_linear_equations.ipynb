{
  "nbformat": 4,
  "nbformat_minor": 0,
  "metadata": {
    "colab": {
      "name": "12_24_System_of_linear_equations.ipynb",
      "version": "0.3.2",
      "provenance": []
    },
    "kernelspec": {
      "name": "python3",
      "display_name": "Python 3"
    }
  },
  "cells": [
    {
      "metadata": {
        "id": "8IKpT8vmhRiv",
        "colab_type": "code",
        "colab": {}
      },
      "cell_type": "code",
      "source": [
        "\n",
        "import numpy as np\n",
        "from numpy.linalg import inv"
      ],
      "execution_count": 0,
      "outputs": []
    },
    {
      "metadata": {
        "id": "FN6yYztDhgWa",
        "colab_type": "code",
        "colab": {
          "base_uri": "https://localhost:8080/",
          "height": 119
        },
        "outputId": "bb30081f-81ae-43b8-f27e-3b1e8b041c00"
      },
      "cell_type": "code",
      "source": [
        "a=np.array([[3, 2,-1], [2, -2,4],[-1, 0.5,-1]])\n",
        "print(a)\n",
        "b=np.array([[1],[-2],[0]])\n",
        "print(b)"
      ],
      "execution_count": 2,
      "outputs": [
        {
          "output_type": "stream",
          "text": [
            "[[ 3.   2.  -1. ]\n",
            " [ 2.  -2.   4. ]\n",
            " [-1.   0.5 -1. ]]\n",
            "[[ 1]\n",
            " [-2]\n",
            " [ 0]]\n"
          ],
          "name": "stdout"
        }
      ]
    },
    {
      "metadata": {
        "id": "UTLFAirChgMk",
        "colab_type": "code",
        "colab": {
          "base_uri": "https://localhost:8080/",
          "height": 34
        },
        "outputId": "4d8ae850-a509-4a1b-96d7-ef1d4a20e398"
      },
      "cell_type": "code",
      "source": [
        "ainv = np.linalg.inv(a) \n",
        "np.allclose(np.dot(a, ainv), np.eye(3))"
      ],
      "execution_count": 3,
      "outputs": [
        {
          "output_type": "execute_result",
          "data": {
            "text/plain": [
              "True"
            ]
          },
          "metadata": {
            "tags": []
          },
          "execution_count": 3
        }
      ]
    },
    {
      "metadata": {
        "id": "L4CCoIDRhgEv",
        "colab_type": "code",
        "colab": {
          "base_uri": "https://localhost:8080/",
          "height": 68
        },
        "outputId": "2c666168-b5dd-4433-d836-f45aed32e30a"
      },
      "cell_type": "code",
      "source": [
        "ainv = inv(np.matrix(a))\n",
        "ainv\n",
        "\n",
        "r=np.dot(ainv,b)\n",
        "print(r)"
      ],
      "execution_count": 4,
      "outputs": [
        {
          "output_type": "stream",
          "text": [
            "[[ 1.]\n",
            " [-2.]\n",
            " [-2.]]\n"
          ],
          "name": "stdout"
        }
      ]
    },
    {
      "metadata": {
        "id": "5XFtXztbhf5s",
        "colab_type": "code",
        "colab": {}
      },
      "cell_type": "code",
      "source": [
        ""
      ],
      "execution_count": 0,
      "outputs": []
    }
  ]
}