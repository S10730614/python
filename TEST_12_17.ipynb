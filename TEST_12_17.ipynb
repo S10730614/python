{
  "nbformat": 4,
  "nbformat_minor": 0,
  "metadata": {
    "colab": {
      "name": "TEST_12_17.ipynb",
      "version": "0.3.2",
      "provenance": [],
      "collapsed_sections": []
    },
    "kernelspec": {
      "name": "python3",
      "display_name": "Python 3"
    }
  },
  "cells": [
    {
      "metadata": {
        "id": "2dAGRLN5ITMc",
        "colab_type": "text"
      },
      "cell_type": "markdown",
      "source": [
        "#Optimization problem\n",
        ">http://tutorial.math.lamar.edu/Classes/CalcI/Optimization.aspx\n",
        "\n",
        "\n",
        "---\n",
        "\n",
        "\n",
        "\n",
        "#Calculus I - Optimization - Pauls Online Math Notes\n",
        "\n",
        "> We need to enclose a rectangular field with a fence. We have 500 feet of fencing material and a building is on one side of the field and so won’t need any fencing. Determine the dimensions of the field that will enclose the largest area.\n",
        "\n",
        "\n",
        "##1. Define the optimization problem by Mathematic equations.\n",
        "\n",
        "##2. one variable  method: using constraint to replace one variable \n",
        "\n",
        ">>2.1 run tensorflow gradient descent to answer the question.\n",
        "\n",
        ">>2.2 run genetic algorithm answer the question.\n",
        "\n",
        ">In all of these problems we will have two functions. The first is the function that we are actually trying to optimize and the second will be the constraint. Sketching the situation will often help us to arrive at these equations so let’s do that.\n",
        "\n",
        ">![img](http://tutorial.math.lamar.edu/Classes/CalcI/Optimization_Files/image001.png)\n",
        "\n",
        "\n",
        "\n",
        "\n",
        ">In this problem we want to maximize the area of a field and we know that will use 500 ft of fencing material. So, the area will be the function we are trying to optimize and the amount of fencing is the constraint. The two equations for these are,\n",
        "\n",
        "$$\n",
        "\\begin{align*}{\\mbox{Maximize : }} & A = xy\\\\ {\\mbox{Constraint : }} & 500 = x + 2y\\end{align*}\n",
        "$$\n",
        "\n",
        ">Okay, we know how to find the largest or smallest value of a function provided it’s only got a single variable. The area function (as well as the constraint) has two variables in it and so what we know about finding absolute extrema won’t work. However, if we solve the constraint for one of the two variables we can substitute this into the area and we will then have a function of a single variable.\n",
        "\n",
        ">So, let’s solve the constraint for $x$.\n",
        ">Note that we could have just as easily solved for $y$ but that would have led to fractions and so, in this case, solving for $ x $  will probably be best.\n",
        "$$\n",
        "x = 500 - 2y\n",
        "$$\n",
        "\n",
        "> Substituting this into the area function gives a function of $y$.\n",
        "\n",
        "$$\n",
        "A\\left( y \\right) = \\left( {500 - 2y} \\right)y = 500y - 2{y^2}\n",
        "$$\n",
        "\n",
        ">Now we want to find the largest value this will have on the interval $[0,250]$. The limits in this interval corresponds to taking $y=0$ . (i.e. no sides to the fence) and $y = 250$  (i.e. only two sides and no width, also if there are two sides each must be 250 ft to use the whole 500ft).\n",
        "\n",
        ">Note that the endpoints of the interval won’t make any sense from a physical standpoint if we actually want to enclose some area because they would both give zero area. They do, however, give us a set of limits on $y$ and so the Extreme Value Theorem tells us that we will have a maximum value of the area somewhere between the two endpoints. Having these limits will also mean that we can use the process we discussed in the Finding Absolute Extrema section earlier in the chapter to find the maximum value of the area.\n",
        "\n",
        ">So, recall that the maximum value of a continuous function (which we’ve got here) on a closed interval (which we also have here) will occur at critical points and/or end points. As we’ve already pointed out the end points in this case will give zero area and so don’t make any sense. That means our only option will be the critical points.\n",
        "\n",
        ">So, let’s get the derivative and find the critical points.\n",
        "\n",
        "$$\n",
        "A'\\left( y \\right) = 500 - 4y\n",
        "$$\n",
        "\n",
        ">Setting this equal to zero and solving gives a lone critical point of $y=125$. Plugging this into the area gives an area of $A(125)=31250ft^2$. So according to the method from Absolute Extrema section this must be the largest possible area, since the area at either endpoint is zero.\n",
        "\n",
        ">Finally, let’s not forget to get the value of $x$ and then we’ll have the dimensions since this is what the problem statement asked for. We can get the $x$ by plugging in our $y$ into the constraint.\n",
        "\n",
        "$$\n",
        "x = 500 - 2\\left( {125} \\right) = 250\n",
        "$$\n",
        "\n",
        ">The dimensions of the field that will give the largest area, subject to the fact that we used exactly 500 ft of fencing material, are 250 x 125.\n",
        "\n",
        ">Don’t forget to actually read the problem and give the answer that was asked for. These types of problems can take a fair amount of time/effort to solve and it’s not hard to sometimes forget what the problem was actually asking for."
      ]
    },
    {
      "metadata": {
        "id": "2hhiAG8SKbg6",
        "colab_type": "text"
      },
      "cell_type": "markdown",
      "source": [
        "##1. Define the optimization problem by Mathematic equations."
      ]
    },
    {
      "metadata": {
        "id": "Cq1Z5Ppx59S7",
        "colab_type": "code",
        "colab": {
          "base_uri": "https://localhost:8080/",
          "height": 265
        },
        "outputId": "790a2fa1-66a9-49b7-d289-b933e849aa97"
      },
      "cell_type": "code",
      "source": [
        "import tensorflow as tf\n",
        "import numpy as np\n",
        "\n",
        "%matplotlib inline\n",
        "import pylab\n",
        "\n",
        "import matplotlib.pyplot as plt\n",
        "import matplotlib.mlab as mlab\n",
        "import math\n",
        "x=np.arange(0,250,0.1)\n",
        "y=x*(500-2*x)\n",
        "\n",
        "plt.plot(x,y)\n",
        "plt.show()"
      ],
      "execution_count": 117,
      "outputs": [
        {
          "output_type": "display_data",
          "data": {
            "image/png": "[encoded data removed]",
            "text/plain": [
              "<matplotlib.figure.Figure at 0x7f020ea94908>"
            ]
          },
          "metadata": {
            "tags": []
          }
        }
      ]
    },
    {
      "metadata": {
        "id": "7yyRM9LC5wyS",
        "colab_type": "code",
        "colab": {
          "base_uri": "https://localhost:8080/",
          "height": 34
        },
        "outputId": "a1f93b5c-0181-4273-f8b4-63a8be6842a4"
      },
      "cell_type": "code",
      "source": [
        "x = tf.Variable(tf.random_uniform([1], 0, 2.0))\n",
        "print(x)"
      ],
      "execution_count": 118,
      "outputs": [
        {
          "output_type": "stream",
          "text": [
            "<tf.Variable 'Variable_15:0' shape=(1,) dtype=float32_ref>\n"
          ],
          "name": "stdout"
        }
      ]
    },
    {
      "metadata": {
        "id": "TwYLHuEw3fGz",
        "colab_type": "code",
        "colab": {}
      },
      "cell_type": "code",
      "source": [
        "# 1.4 Build training graph.\n",
        "loss = tf.reduce_mean(x*(500-2*x))  # Create an operation that calculates loss.\n",
        "optimizer = tf.train.GradientDescentOptimizer(-0.01)  # Create an optimizer.\n",
        "train = optimizer.minimize(loss)  # Create an operation that minimizes loss.\n",
        "init = tf.initialize_all_variables()  # Create an operation initializes all the variables.\n"
      ],
      "execution_count": 0,
      "outputs": []
    },
    {
      "metadata": {
        "id": "OoEAE-F94DkE",
        "colab_type": "code",
        "colab": {
          "base_uri": "https://localhost:8080/",
          "height": 34
        },
        "outputId": "f968d56a-7042-4c1b-9678-7750060a758b"
      },
      "cell_type": "code",
      "source": [
        "# 1.6 Create a session and launch the graph.\n",
        "sess = tf.Session()\n",
        "sess.run(init)\n",
        "#y_initial_values = sess.run(y)  # Save initial values for plotting later.\n",
        "\n",
        "# Uncomment the following line to see the initial W and b values.\n",
        "print(sess.run([x]))"
      ],
      "execution_count": 120,
      "outputs": [
        {
          "output_type": "stream",
          "text": [
            "[array([0.9745984], dtype=float32)]\n"
          ],
          "name": "stdout"
        }
      ]
    },
    {
      "metadata": {
        "id": "WRcWmGMj4C8F",
        "colab_type": "code",
        "colab": {
          "base_uri": "https://localhost:8080/",
          "height": 34
        },
        "outputId": "97934028-57bc-4472-f8f5-675ac3c63f56"
      },
      "cell_type": "code",
      "source": [
        "# 1.7 Perform training.\n",
        "for step in range(1000):\n",
        "    sess.run(train)\n",
        "    # Uncomment the following two lines to watch training happen real time.\n",
        "    # if step % 20 == 0:\n",
        "    #    print(step, sess.run([W, b]))\n",
        "\n",
        "print(sess.run([x]))"
      ],
      "execution_count": 121,
      "outputs": [
        {
          "output_type": "stream",
          "text": [
            "[array([124.99991], dtype=float32)]\n"
          ],
          "name": "stdout"
        }
      ]
    },
    {
      "metadata": {
        "id": "jM8_5YB74Cos",
        "colab_type": "code",
        "colab": {
          "base_uri": "https://localhost:8080/",
          "height": 34
        },
        "outputId": "50d3d1d5-0e5d-4b01-e8a8-043e4f5fac07"
      },
      "cell_type": "code",
      "source": [
        "y = 124.9\n",
        "x = 500-2*y\n",
        "x"
      ],
      "execution_count": 122,
      "outputs": [
        {
          "output_type": "execute_result",
          "data": {
            "text/plain": [
              "250.2"
            ]
          },
          "metadata": {
            "tags": []
          },
          "execution_count": 122
        }
      ]
    },
    {
      "metadata": {
        "id": "x_mOdwfT4CiD",
        "colab_type": "code",
        "colab": {
          "base_uri": "https://localhost:8080/",
          "height": 34
        },
        "outputId": "9fc590ba-ec47-40ac-b0e9-759b246a42d3"
      },
      "cell_type": "code",
      "source": [
        "A=x*y\n",
        "A"
      ],
      "execution_count": 123,
      "outputs": [
        {
          "output_type": "execute_result",
          "data": {
            "text/plain": [
              "31249.98"
            ]
          },
          "metadata": {
            "tags": []
          },
          "execution_count": 123
        }
      ]
    },
    {
      "metadata": {
        "id": "LIguqUzCJ4vq",
        "colab_type": "text"
      },
      "cell_type": "markdown",
      "source": [
        "#2. one variable  method: using constraint to replace one variable \n",
        "\n",
        "##2.1 run tensorflow gradient descent to answer the question.\n",
        "\n",
        "##2.2 run genetic algorithm answer the question. \n"
      ]
    },
    {
      "metadata": {
        "id": "hN-t47rVJaYb",
        "colab_type": "code",
        "colab": {
          "base_uri": "https://localhost:8080/",
          "height": 105
        },
        "outputId": "a221d98c-0bd8-4d48-caff-9ee06305136f"
      },
      "cell_type": "code",
      "source": [
        "!pip install gaft"
      ],
      "execution_count": 128,
      "outputs": [
        {
          "output_type": "stream",
          "text": [
            "Collecting gaft\n",
            "  Downloading https://files.pythonhosted.org/packages/4a/6f/b53b385957188b880f39359e765bc2ed4c757ee64b2ae5ef5cdca7f87ce8/gaft-0.5.7-py3-none-any.whl\n",
            "Installing collected packages: gaft\n",
            "Successfully installed gaft-0.5.7\n"
          ],
          "name": "stdout"
        }
      ]
    },
    {
      "metadata": {
        "id": "7Ouoyj2MI76M",
        "colab_type": "code",
        "colab": {}
      },
      "cell_type": "code",
      "source": [
        "def f_y(y):\n",
        "  return 500*y-2*y**2"
      ],
      "execution_count": 0,
      "outputs": []
    },
    {
      "metadata": {
        "id": "8T4KgTMuI7yM",
        "colab_type": "code",
        "colab": {}
      },
      "cell_type": "code",
      "source": [
        "def f_x(y):\n",
        "  return 500-2*y"
      ],
      "execution_count": 0,
      "outputs": []
    },
    {
      "metadata": {
        "id": "zla8ZKDL4LIs",
        "colab_type": "code",
        "colab": {
          "base_uri": "https://localhost:8080/",
          "height": 2720
        },
        "outputId": "26d4b2cb-dedb-441f-d994-e5076f9168c8"
      },
      "cell_type": "code",
      "source": [
        "\n",
        "from math import sin, cos, pi\n",
        "\n",
        "from gaft import GAEngine\n",
        "from gaft.components import BinaryIndividual\n",
        "from gaft.components import Population\n",
        "from gaft.operators import TournamentSelection\n",
        "from gaft.operators import UniformCrossover\n",
        "from gaft.operators import FlipBitBigMutation\n",
        "\n",
        "# Built-in best fitness analysis.\n",
        "from gaft.analysis.fitness_store import FitnessStore\n",
        "from gaft.analysis.console_output import ConsoleOutput\n",
        "\n",
        "\n",
        "indv_template = BinaryIndividual(ranges=[(-5, 300)], eps=0.001)#初始值-5~300\n",
        "population = Population(indv_template=indv_template, size=50).init()\n",
        "\n",
        "selection = TournamentSelection()\n",
        "crossover = UniformCrossover(pc=0.8, pe=0.5)\n",
        "mutation = FlipBitBigMutation(pm=0.1, pbm=0.55, alpha=0.6)\n",
        "\n",
        "engine = GAEngine(population=population, selection=selection,\n",
        "                  crossover=crossover, mutation=mutation,\n",
        "                  analysis=[ConsoleOutput, FitnessStore])\n",
        "\n",
        "# Define fitness function.\n",
        "@engine.fitness_register\n",
        "def fitness(indv):\n",
        "    y, = indv.solution\n",
        "    return f_y(y)\n",
        "\n",
        "if '__main__' == __name__:\n",
        "  print(\"GAFT運算過程==========\")\n",
        "  engine.run(ng=150)\n",
        "  print(\"\\nGAFT運算結果==========\")\n",
        "  from best_fit import *\n",
        "  \n",
        "  result_y = str(best_fit[-1][1][0])\n",
        "  result_x = str(f_x(best_fit[-1][1][0]))\n",
        "  result_A = str(best_fit[-1][2])\n",
        "  print(\"x = \"+result_x)\n",
        "  print(\"y = \"+result_y)\n",
        "  print(\"A = \"+result_A)"
      ],
      "execution_count": 132,
      "outputs": [
        {
          "output_type": "stream",
          "text": [
            "GAFT運算過程==========\n",
            "gaft.ConsoleOutput   INFO     Generation number: 150 Population number: 50\n",
            "gaft.ConsoleOutput   INFO     Generation: 1, best fitness: 31245.581, scaled fitness: 31245.581\n",
            "gaft.ConsoleOutput   INFO     Generation: 2, best fitness: 31245.581, scaled fitness: 31245.581\n",
            "gaft.ConsoleOutput   INFO     Generation: 3, best fitness: 31249.873, scaled fitness: 31249.873\n",
            "gaft.ConsoleOutput   INFO     Generation: 4, best fitness: 31249.873, scaled fitness: 31249.873\n",
            "gaft.ConsoleOutput   INFO     Generation: 5, best fitness: 31249.972, scaled fitness: 31249.972\n",
            "gaft.ConsoleOutput   INFO     Generation: 6, best fitness: 31249.972, scaled fitness: 31249.972\n",
            "gaft.ConsoleOutput   INFO     Generation: 7, best fitness: 31249.973, scaled fitness: 31249.973\n",
            "gaft.ConsoleOutput   INFO     Generation: 8, best fitness: 31249.992, scaled fitness: 31249.992\n",
            "gaft.ConsoleOutput   INFO     Generation: 9, best fitness: 31249.992, scaled fitness: 31249.992\n",
            "gaft.ConsoleOutput   INFO     Generation: 10, best fitness: 31249.992, scaled fitness: 31249.992\n",
            "gaft.ConsoleOutput   INFO     Generation: 11, best fitness: 31249.992, scaled fitness: 31249.992\n",
            "gaft.ConsoleOutput   INFO     Generation: 12, best fitness: 31249.992, scaled fitness: 31249.992\n",
            "gaft.ConsoleOutput   INFO     Generation: 13, best fitness: 31249.992, scaled fitness: 31249.992\n",
            "gaft.ConsoleOutput   INFO     Generation: 14, best fitness: 31249.992, scaled fitness: 31249.992\n",
            "gaft.ConsoleOutput   INFO     Generation: 15, best fitness: 31249.992, scaled fitness: 31249.992\n",
            "gaft.ConsoleOutput   INFO     Generation: 16, best fitness: 31249.992, scaled fitness: 31249.992\n",
            "gaft.ConsoleOutput   INFO     Generation: 17, best fitness: 31249.992, scaled fitness: 31249.992\n",
            "gaft.ConsoleOutput   INFO     Generation: 18, best fitness: 31249.992, scaled fitness: 31249.992\n",
            "gaft.ConsoleOutput   INFO     Generation: 19, best fitness: 31249.992, scaled fitness: 31249.992\n",
            "gaft.ConsoleOutput   INFO     Generation: 20, best fitness: 31249.994, scaled fitness: 31249.994\n",
            "gaft.ConsoleOutput   INFO     Generation: 21, best fitness: 31249.994, scaled fitness: 31249.994\n",
            "gaft.ConsoleOutput   INFO     Generation: 22, best fitness: 31249.994, scaled fitness: 31249.994\n",
            "gaft.ConsoleOutput   INFO     Generation: 23, best fitness: 31249.994, scaled fitness: 31249.994\n",
            "gaft.ConsoleOutput   INFO     Generation: 24, best fitness: 31249.994, scaled fitness: 31249.994\n",
            "gaft.ConsoleOutput   INFO     Generation: 25, best fitness: 31249.994, scaled fitness: 31249.994\n",
            "gaft.ConsoleOutput   INFO     Generation: 26, best fitness: 31250.000, scaled fitness: 31250.000\n",
            "gaft.ConsoleOutput   INFO     Generation: 27, best fitness: 31250.000, scaled fitness: 31250.000\n",
            "gaft.ConsoleOutput   INFO     Generation: 28, best fitness: 31250.000, scaled fitness: 31250.000\n",
            "gaft.ConsoleOutput   INFO     Generation: 29, best fitness: 31250.000, scaled fitness: 31250.000\n",
            "gaft.ConsoleOutput   INFO     Generation: 30, best fitness: 31250.000, scaled fitness: 31250.000\n",
            "gaft.ConsoleOutput   INFO     Generation: 31, best fitness: 31250.000, scaled fitness: 31250.000\n",
            "gaft.ConsoleOutput   INFO     Generation: 32, best fitness: 31250.000, scaled fitness: 31250.000\n",
            "gaft.ConsoleOutput   INFO     Generation: 33, best fitness: 31250.000, scaled fitness: 31250.000\n",
            "gaft.ConsoleOutput   INFO     Generation: 34, best fitness: 31250.000, scaled fitness: 31250.000\n",
            "gaft.ConsoleOutput   INFO     Generation: 35, best fitness: 31250.000, scaled fitness: 31250.000\n",
            "gaft.ConsoleOutput   INFO     Generation: 36, best fitness: 31250.000, scaled fitness: 31250.000\n",
            "gaft.ConsoleOutput   INFO     Generation: 37, best fitness: 31250.000, scaled fitness: 31250.000\n",
            "gaft.ConsoleOutput   INFO     Generation: 38, best fitness: 31250.000, scaled fitness: 31250.000\n",
            "gaft.ConsoleOutput   INFO     Generation: 39, best fitness: 31250.000, scaled fitness: 31250.000\n",
            "gaft.ConsoleOutput   INFO     Generation: 40, best fitness: 31250.000, scaled fitness: 31250.000\n",
            "gaft.ConsoleOutput   INFO     Generation: 41, best fitness: 31250.000, scaled fitness: 31250.000\n",
            "gaft.ConsoleOutput   INFO     Generation: 42, best fitness: 31250.000, scaled fitness: 31250.000\n",
            "gaft.ConsoleOutput   INFO     Generation: 43, best fitness: 31250.000, scaled fitness: 31250.000\n",
            "gaft.ConsoleOutput   INFO     Generation: 44, best fitness: 31250.000, scaled fitness: 31250.000\n",
            "gaft.ConsoleOutput   INFO     Generation: 45, best fitness: 31250.000, scaled fitness: 31250.000\n",
            "gaft.ConsoleOutput   INFO     Generation: 46, best fitness: 31250.000, scaled fitness: 31250.000\n",
            "gaft.ConsoleOutput   INFO     Generation: 47, best fitness: 31250.000, scaled fitness: 31250.000\n",
            "gaft.ConsoleOutput   INFO     Generation: 48, best fitness: 31250.000, scaled fitness: 31250.000\n",
            "gaft.ConsoleOutput   INFO     Generation: 49, best fitness: 31250.000, scaled fitness: 31250.000\n",
            "gaft.ConsoleOutput   INFO     Generation: 50, best fitness: 31250.000, scaled fitness: 31250.000\n",
            "gaft.ConsoleOutput   INFO     Generation: 51, best fitness: 31250.000, scaled fitness: 31250.000\n",
            "gaft.ConsoleOutput   INFO     Generation: 52, best fitness: 31250.000, scaled fitness: 31250.000\n",
            "gaft.ConsoleOutput   INFO     Generation: 53, best fitness: 31250.000, scaled fitness: 31250.000\n",
            "gaft.ConsoleOutput   INFO     Generation: 54, best fitness: 31250.000, scaled fitness: 31250.000\n",
            "gaft.ConsoleOutput   INFO     Generation: 55, best fitness: 31250.000, scaled fitness: 31250.000\n",
            "gaft.ConsoleOutput   INFO     Generation: 56, best fitness: 31250.000, scaled fitness: 31250.000\n",
            "gaft.ConsoleOutput   INFO     Generation: 57, best fitness: 31250.000, scaled fitness: 31250.000\n",
            "gaft.ConsoleOutput   INFO     Generation: 58, best fitness: 31250.000, scaled fitness: 31250.000\n",
            "gaft.ConsoleOutput   INFO     Generation: 59, best fitness: 31250.000, scaled fitness: 31250.000\n",
            "gaft.ConsoleOutput   INFO     Generation: 60, best fitness: 31250.000, scaled fitness: 31250.000\n",
            "gaft.ConsoleOutput   INFO     Generation: 61, best fitness: 31250.000, scaled fitness: 31250.000\n",
            "gaft.ConsoleOutput   INFO     Generation: 62, best fitness: 31250.000, scaled fitness: 31250.000\n",
            "gaft.ConsoleOutput   INFO     Generation: 63, best fitness: 31250.000, scaled fitness: 31250.000\n",
            "gaft.ConsoleOutput   INFO     Generation: 64, best fitness: 31250.000, scaled fitness: 31250.000\n",
            "gaft.ConsoleOutput   INFO     Generation: 65, best fitness: 31250.000, scaled fitness: 31250.000\n",
            "gaft.ConsoleOutput   INFO     Generation: 66, best fitness: 31250.000, scaled fitness: 31250.000\n",
            "gaft.ConsoleOutput   INFO     Generation: 67, best fitness: 31250.000, scaled fitness: 31250.000\n",
            "gaft.ConsoleOutput   INFO     Generation: 68, best fitness: 31250.000, scaled fitness: 31250.000\n",
            "gaft.ConsoleOutput   INFO     Generation: 69, best fitness: 31250.000, scaled fitness: 31250.000\n",
            "gaft.ConsoleOutput   INFO     Generation: 70, best fitness: 31250.000, scaled fitness: 31250.000\n",
            "gaft.ConsoleOutput   INFO     Generation: 71, best fitness: 31250.000, scaled fitness: 31250.000\n",
            "gaft.ConsoleOutput   INFO     Generation: 72, best fitness: 31250.000, scaled fitness: 31250.000\n",
            "gaft.ConsoleOutput   INFO     Generation: 73, best fitness: 31250.000, scaled fitness: 31250.000\n",
            "gaft.ConsoleOutput   INFO     Generation: 74, best fitness: 31250.000, scaled fitness: 31250.000\n",
            "gaft.ConsoleOutput   INFO     Generation: 75, best fitness: 31250.000, scaled fitness: 31250.000\n",
            "gaft.ConsoleOutput   INFO     Generation: 76, best fitness: 31250.000, scaled fitness: 31250.000\n",
            "gaft.ConsoleOutput   INFO     Generation: 77, best fitness: 31250.000, scaled fitness: 31250.000\n",
            "gaft.ConsoleOutput   INFO     Generation: 78, best fitness: 31250.000, scaled fitness: 31250.000\n",
            "gaft.ConsoleOutput   INFO     Generation: 79, best fitness: 31250.000, scaled fitness: 31250.000\n",
            "gaft.ConsoleOutput   INFO     Generation: 80, best fitness: 31250.000, scaled fitness: 31250.000\n",
            "gaft.ConsoleOutput   INFO     Generation: 81, best fitness: 31250.000, scaled fitness: 31250.000\n",
            "gaft.ConsoleOutput   INFO     Generation: 82, best fitness: 31250.000, scaled fitness: 31250.000\n",
            "gaft.ConsoleOutput   INFO     Generation: 83, best fitness: 31250.000, scaled fitness: 31250.000\n",
            "gaft.ConsoleOutput   INFO     Generation: 84, best fitness: 31250.000, scaled fitness: 31250.000\n",
            "gaft.ConsoleOutput   INFO     Generation: 85, best fitness: 31250.000, scaled fitness: 31250.000\n",
            "gaft.ConsoleOutput   INFO     Generation: 86, best fitness: 31250.000, scaled fitness: 31250.000\n",
            "gaft.ConsoleOutput   INFO     Generation: 87, best fitness: 31250.000, scaled fitness: 31250.000\n",
            "gaft.ConsoleOutput   INFO     Generation: 88, best fitness: 31250.000, scaled fitness: 31250.000\n",
            "gaft.ConsoleOutput   INFO     Generation: 89, best fitness: 31250.000, scaled fitness: 31250.000\n",
            "gaft.ConsoleOutput   INFO     Generation: 90, best fitness: 31250.000, scaled fitness: 31250.000\n",
            "gaft.ConsoleOutput   INFO     Generation: 91, best fitness: 31250.000, scaled fitness: 31250.000\n",
            "gaft.ConsoleOutput   INFO     Generation: 92, best fitness: 31250.000, scaled fitness: 31250.000\n",
            "gaft.ConsoleOutput   INFO     Generation: 93, best fitness: 31250.000, scaled fitness: 31250.000\n",
            "gaft.ConsoleOutput   INFO     Generation: 94, best fitness: 31250.000, scaled fitness: 31250.000\n",
            "gaft.ConsoleOutput   INFO     Generation: 95, best fitness: 31250.000, scaled fitness: 31250.000\n",
            "gaft.ConsoleOutput   INFO     Generation: 96, best fitness: 31250.000, scaled fitness: 31250.000\n",
            "gaft.ConsoleOutput   INFO     Generation: 97, best fitness: 31250.000, scaled fitness: 31250.000\n",
            "gaft.ConsoleOutput   INFO     Generation: 98, best fitness: 31250.000, scaled fitness: 31250.000\n",
            "gaft.ConsoleOutput   INFO     Generation: 99, best fitness: 31250.000, scaled fitness: 31250.000\n",
            "gaft.ConsoleOutput   INFO     Generation: 100, best fitness: 31250.000, scaled fitness: 31250.000\n",
            "gaft.ConsoleOutput   INFO     Generation: 101, best fitness: 31250.000, scaled fitness: 31250.000\n",
            "gaft.ConsoleOutput   INFO     Generation: 102, best fitness: 31250.000, scaled fitness: 31250.000\n",
            "gaft.ConsoleOutput   INFO     Generation: 103, best fitness: 31250.000, scaled fitness: 31250.000\n",
            "gaft.ConsoleOutput   INFO     Generation: 104, best fitness: 31250.000, scaled fitness: 31250.000\n",
            "gaft.ConsoleOutput   INFO     Generation: 105, best fitness: 31250.000, scaled fitness: 31250.000\n",
            "gaft.ConsoleOutput   INFO     Generation: 106, best fitness: 31250.000, scaled fitness: 31250.000\n",
            "gaft.ConsoleOutput   INFO     Generation: 107, best fitness: 31250.000, scaled fitness: 31250.000\n",
            "gaft.ConsoleOutput   INFO     Generation: 108, best fitness: 31250.000, scaled fitness: 31250.000\n",
            "gaft.ConsoleOutput   INFO     Generation: 109, best fitness: 31250.000, scaled fitness: 31250.000\n",
            "gaft.ConsoleOutput   INFO     Generation: 110, best fitness: 31250.000, scaled fitness: 31250.000\n",
            "gaft.ConsoleOutput   INFO     Generation: 111, best fitness: 31250.000, scaled fitness: 31250.000\n",
            "gaft.ConsoleOutput   INFO     Generation: 112, best fitness: 31250.000, scaled fitness: 31250.000\n",
            "gaft.ConsoleOutput   INFO     Generation: 113, best fitness: 31250.000, scaled fitness: 31250.000\n",
            "gaft.ConsoleOutput   INFO     Generation: 114, best fitness: 31250.000, scaled fitness: 31250.000\n",
            "gaft.ConsoleOutput   INFO     Generation: 115, best fitness: 31250.000, scaled fitness: 31250.000\n",
            "gaft.ConsoleOutput   INFO     Generation: 116, best fitness: 31250.000, scaled fitness: 31250.000\n",
            "gaft.ConsoleOutput   INFO     Generation: 117, best fitness: 31250.000, scaled fitness: 31250.000\n",
            "gaft.ConsoleOutput   INFO     Generation: 118, best fitness: 31250.000, scaled fitness: 31250.000\n",
            "gaft.ConsoleOutput   INFO     Generation: 119, best fitness: 31250.000, scaled fitness: 31250.000\n",
            "gaft.ConsoleOutput   INFO     Generation: 120, best fitness: 31250.000, scaled fitness: 31250.000\n",
            "gaft.ConsoleOutput   INFO     Generation: 121, best fitness: 31250.000, scaled fitness: 31250.000\n",
            "gaft.ConsoleOutput   INFO     Generation: 122, best fitness: 31250.000, scaled fitness: 31250.000\n",
            "gaft.ConsoleOutput   INFO     Generation: 123, best fitness: 31250.000, scaled fitness: 31250.000\n",
            "gaft.ConsoleOutput   INFO     Generation: 124, best fitness: 31250.000, scaled fitness: 31250.000\n",
            "gaft.ConsoleOutput   INFO     Generation: 125, best fitness: 31250.000, scaled fitness: 31250.000\n",
            "gaft.ConsoleOutput   INFO     Generation: 126, best fitness: 31250.000, scaled fitness: 31250.000\n",
            "gaft.ConsoleOutput   INFO     Generation: 127, best fitness: 31250.000, scaled fitness: 31250.000\n",
            "gaft.ConsoleOutput   INFO     Generation: 128, best fitness: 31250.000, scaled fitness: 31250.000\n",
            "gaft.ConsoleOutput   INFO     Generation: 129, best fitness: 31250.000, scaled fitness: 31250.000\n",
            "gaft.ConsoleOutput   INFO     Generation: 130, best fitness: 31250.000, scaled fitness: 31250.000\n",
            "gaft.ConsoleOutput   INFO     Generation: 131, best fitness: 31250.000, scaled fitness: 31250.000\n",
            "gaft.ConsoleOutput   INFO     Generation: 132, best fitness: 31250.000, scaled fitness: 31250.000\n",
            "gaft.ConsoleOutput   INFO     Generation: 133, best fitness: 31250.000, scaled fitness: 31250.000\n",
            "gaft.ConsoleOutput   INFO     Generation: 134, best fitness: 31250.000, scaled fitness: 31250.000\n",
            "gaft.ConsoleOutput   INFO     Generation: 135, best fitness: 31250.000, scaled fitness: 31250.000\n",
            "gaft.ConsoleOutput   INFO     Generation: 136, best fitness: 31250.000, scaled fitness: 31250.000\n",
            "gaft.ConsoleOutput   INFO     Generation: 137, best fitness: 31250.000, scaled fitness: 31250.000\n",
            "gaft.ConsoleOutput   INFO     Generation: 138, best fitness: 31250.000, scaled fitness: 31250.000\n",
            "gaft.ConsoleOutput   INFO     Generation: 139, best fitness: 31250.000, scaled fitness: 31250.000\n",
            "gaft.ConsoleOutput   INFO     Generation: 140, best fitness: 31250.000, scaled fitness: 31250.000\n",
            "gaft.ConsoleOutput   INFO     Generation: 141, best fitness: 31250.000, scaled fitness: 31250.000\n",
            "gaft.ConsoleOutput   INFO     Generation: 142, best fitness: 31250.000, scaled fitness: 31250.000\n",
            "gaft.ConsoleOutput   INFO     Generation: 143, best fitness: 31250.000, scaled fitness: 31250.000\n",
            "gaft.ConsoleOutput   INFO     Generation: 144, best fitness: 31250.000, scaled fitness: 31250.000\n",
            "gaft.ConsoleOutput   INFO     Generation: 145, best fitness: 31250.000, scaled fitness: 31250.000\n",
            "gaft.ConsoleOutput   INFO     Generation: 146, best fitness: 31250.000, scaled fitness: 31250.000\n",
            "gaft.ConsoleOutput   INFO     Generation: 147, best fitness: 31250.000, scaled fitness: 31250.000\n",
            "gaft.ConsoleOutput   INFO     Generation: 148, best fitness: 31250.000, scaled fitness: 31250.000\n",
            "gaft.ConsoleOutput   INFO     Generation: 149, best fitness: 31250.000, scaled fitness: 31250.000\n",
            "gaft.ConsoleOutput   INFO     Generation: 150, best fitness: 31250.000, scaled fitness: 31250.000\n",
            "gaft.ConsoleOutput   INFO     Optimal solution: ([125.00057220458984], 31249.999999345164)\n",
            "gaft.FitnessStore   INFO     Best fitness values are written to best_fit.py\n",
            "\n",
            "GAFT運算結果==========\n",
            "x = 250.00118255615234\n",
            "y = 124.99940872192383\n",
            "A = 31249.99999930078\n"
          ],
          "name": "stdout"
        }
      ]
    }
  ]
}