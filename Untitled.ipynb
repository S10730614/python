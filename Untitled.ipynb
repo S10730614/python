{
 "cells": [
  {
   "cell_type": "code",
   "execution_count": 44,
   "metadata": {},
   "outputs": [
    {
     "data": {
      "image/png": "[encoded data removed]",
      "text/plain": [
       "<Figure size 432x288 with 1 Axes>"
      ]
     },
     "metadata": {
      "needs_background": "light"
     },
     "output_type": "display_data"
    }
   ],
   "source": [
    "import numpy as np\n",
    "import matplotlib.pyplot as plt\n",
    "\n",
    "# Create data\n",
    "width=0.01\n",
    "x=np.arange(0,1,width) # interval from 0 to 6 with unit 0.1\n",
    "y=x**2\n",
    "# plot graph\n",
    "plt.plot(x,y)\n",
    "plt.xlim(0,1)  # set the xlim to left, right\n",
    "plt.ylim(0,1)\n",
    "plt.show()"
   ]
  },
  {
   "cell_type": "code",
   "execution_count": 45,
   "metadata": {},
   "outputs": [
    {
     "data": {
      "text/plain": [
       "array([0.  , 0.01, 0.02, 0.03, 0.04, 0.05, 0.06, 0.07, 0.08, 0.09, 0.1 ,\n",
       "       0.11, 0.12, 0.13, 0.14, 0.15, 0.16, 0.17, 0.18, 0.19, 0.2 , 0.21,\n",
       "       0.22, 0.23, 0.24, 0.25, 0.26, 0.27, 0.28, 0.29, 0.3 , 0.31, 0.32,\n",
       "       0.33, 0.34, 0.35, 0.36, 0.37, 0.38, 0.39, 0.4 , 0.41, 0.42, 0.43,\n",
       "       0.44, 0.45, 0.46, 0.47, 0.48, 0.49, 0.5 , 0.51, 0.52, 0.53, 0.54,\n",
       "       0.55, 0.56, 0.57, 0.58, 0.59, 0.6 , 0.61, 0.62, 0.63, 0.64, 0.65,\n",
       "       0.66, 0.67, 0.68, 0.69, 0.7 , 0.71, 0.72, 0.73, 0.74, 0.75, 0.76,\n",
       "       0.77, 0.78, 0.79, 0.8 , 0.81, 0.82, 0.83, 0.84, 0.85, 0.86, 0.87,\n",
       "       0.88, 0.89, 0.9 , 0.91, 0.92, 0.93, 0.94, 0.95, 0.96, 0.97, 0.98,\n",
       "       0.99])"
      ]
     },
     "execution_count": 45,
     "metadata": {},
     "output_type": "execute_result"
    }
   ],
   "source": [
    "x"
   ]
  },
  {
   "cell_type": "code",
   "execution_count": 46,
   "metadata": {},
   "outputs": [
    {
     "data": {
      "text/plain": [
       "array([0.000e+00, 1.000e-04, 4.000e-04, 9.000e-04, 1.600e-03, 2.500e-03,\n",
       "       3.600e-03, 4.900e-03, 6.400e-03, 8.100e-03, 1.000e-02, 1.210e-02,\n",
       "       1.440e-02, 1.690e-02, 1.960e-02, 2.250e-02, 2.560e-02, 2.890e-02,\n",
       "       3.240e-02, 3.610e-02, 4.000e-02, 4.410e-02, 4.840e-02, 5.290e-02,\n",
       "       5.760e-02, 6.250e-02, 6.760e-02, 7.290e-02, 7.840e-02, 8.410e-02,\n",
       "       9.000e-02, 9.610e-02, 1.024e-01, 1.089e-01, 1.156e-01, 1.225e-01,\n",
       "       1.296e-01, 1.369e-01, 1.444e-01, 1.521e-01, 1.600e-01, 1.681e-01,\n",
       "       1.764e-01, 1.849e-01, 1.936e-01, 2.025e-01, 2.116e-01, 2.209e-01,\n",
       "       2.304e-01, 2.401e-01, 2.500e-01, 2.601e-01, 2.704e-01, 2.809e-01,\n",
       "       2.916e-01, 3.025e-01, 3.136e-01, 3.249e-01, 3.364e-01, 3.481e-01,\n",
       "       3.600e-01, 3.721e-01, 3.844e-01, 3.969e-01, 4.096e-01, 4.225e-01,\n",
       "       4.356e-01, 4.489e-01, 4.624e-01, 4.761e-01, 4.900e-01, 5.041e-01,\n",
       "       5.184e-01, 5.329e-01, 5.476e-01, 5.625e-01, 5.776e-01, 5.929e-01,\n",
       "       6.084e-01, 6.241e-01, 6.400e-01, 6.561e-01, 6.724e-01, 6.889e-01,\n",
       "       7.056e-01, 7.225e-01, 7.396e-01, 7.569e-01, 7.744e-01, 7.921e-01,\n",
       "       8.100e-01, 8.281e-01, 8.464e-01, 8.649e-01, 8.836e-01, 9.025e-01,\n",
       "       9.216e-01, 9.409e-01, 9.604e-01, 9.801e-01])"
      ]
     },
     "execution_count": 46,
     "metadata": {},
     "output_type": "execute_result"
    }
   ],
   "source": [
    "y"
   ]
  },
  {
   "cell_type": "code",
   "execution_count": 47,
   "metadata": {},
   "outputs": [],
   "source": [
    "#objects =  ('0', '0.1', '0.2', '0.3','0.4','0.5', '0.6', '0.7', '0.8', '0.9')\n",
    "#y_pos = np.arange(len(objects))\n",
    "#plt.bar(y_pos, y, align='center',width=1 ,alpha=0.5)\n",
    "#plt.plot(y_pos, y)\n",
    "#plt.xticks(y_pos, objects)"
   ]
  },
  {
   "cell_type": "code",
   "execution_count": 48,
   "metadata": {},
   "outputs": [
    {
     "data": {
      "text/plain": [
       "0.32835000000000003"
      ]
     },
     "execution_count": 48,
     "metadata": {},
     "output_type": "execute_result"
    }
   ],
   "source": [
    "\n",
    "add = width*sum(y)\n",
    "add"
   ]
  },
  {
   "cell_type": "markdown",
   "metadata": {},
   "source": [
    "We explore the definite integration of function $f(x)=x^2$:\n",
    "\n",
    "$$\n",
    "\\begin{align*} \n",
    "I  &=\\int_{0}^{1} f(x) dx \\\\\n",
    "   &=\\tfrac{1}{3} x^3 \n",
    "\\Big|_0^1=\\tfrac{1}{3} 1^3 -0=\\tfrac{1}{3}\n",
    "\\end{align*}\n",
    "$$\n",
    "\n",
    "The result I=1/3."
   ]
  },
  {
   "cell_type": "code",
   "execution_count": 49,
   "metadata": {},
   "outputs": [
    {
     "data": {
      "text/plain": [
       "(0.33333333333333337, 3.700743415417189e-15)"
      ]
     },
     "execution_count": 49,
     "metadata": {},
     "output_type": "execute_result"
    }
   ],
   "source": [
    "from scipy.integrate import quad\n",
    "def integrand(x, a, b):\n",
    "    return a*x**2 + b\n",
    "a=1\n",
    "b=0\n",
    "I = quad(integrand, 0, 1, args=(a,b))\n",
    "I"
   ]
  },
  {
   "cell_type": "code",
   "execution_count": 50,
   "metadata": {},
   "outputs": [
    {
     "data": {
      "text/plain": [
       "0.004983333333333284"
      ]
     },
     "execution_count": 50,
     "metadata": {},
     "output_type": "execute_result"
    }
   ],
   "source": [
    "error=1/3-add\n",
    "error"
   ]
  },
  {
   "cell_type": "code",
   "execution_count": 51,
   "metadata": {},
   "outputs": [
    {
     "data": {
      "text/plain": [
       "([<matplotlib.axis.XTick at 0x259b819cda0>,\n",
       "  <matplotlib.axis.XTick at 0x259b819c630>,\n",
       "  <matplotlib.axis.XTick at 0x259b819c358>,\n",
       "  <matplotlib.axis.XTick at 0x259b7711630>,\n",
       "  <matplotlib.axis.XTick at 0x259b7711fd0>,\n",
       "  <matplotlib.axis.XTick at 0x259b771a518>,\n",
       "  <matplotlib.axis.XTick at 0x259b771a080>,\n",
       "  <matplotlib.axis.XTick at 0x259b769f4e0>,\n",
       "  <matplotlib.axis.XTick at 0x259b769f898>,\n",
       "  <matplotlib.axis.XTick at 0x259b769f940>,\n",
       "  <matplotlib.axis.XTick at 0x259b771a208>,\n",
       "  <matplotlib.axis.XTick at 0x259b769ff60>,\n",
       "  <matplotlib.axis.XTick at 0x259b7723ba8>,\n",
       "  <matplotlib.axis.XTick at 0x259b7723fd0>,\n",
       "  <matplotlib.axis.XTick at 0x259b7723f28>,\n",
       "  <matplotlib.axis.XTick at 0x259b7694400>,\n",
       "  <matplotlib.axis.XTick at 0x259b7694e10>,\n",
       "  <matplotlib.axis.XTick at 0x259b76943c8>,\n",
       "  <matplotlib.axis.XTick at 0x259b7876eb8>,\n",
       "  <matplotlib.axis.XTick at 0x259b76942e8>,\n",
       "  <matplotlib.axis.XTick at 0x259b7723c88>,\n",
       "  <matplotlib.axis.XTick at 0x259b7876cc0>,\n",
       "  <matplotlib.axis.XTick at 0x259b7876390>,\n",
       "  <matplotlib.axis.XTick at 0x259b76ce5f8>,\n",
       "  <matplotlib.axis.XTick at 0x259b76ce7b8>,\n",
       "  <matplotlib.axis.XTick at 0x259b76cef28>,\n",
       "  <matplotlib.axis.XTick at 0x259b69e8c88>,\n",
       "  <matplotlib.axis.XTick at 0x259b7995470>,\n",
       "  <matplotlib.axis.XTick at 0x259b76ce1d0>,\n",
       "  <matplotlib.axis.XTick at 0x259b7723cc0>,\n",
       "  <matplotlib.axis.XTick at 0x259b7995e10>,\n",
       "  <matplotlib.axis.XTick at 0x259b79955f8>,\n",
       "  <matplotlib.axis.XTick at 0x259b798d0b8>,\n",
       "  <matplotlib.axis.XTick at 0x259b798deb8>,\n",
       "  <matplotlib.axis.XTick at 0x259b798de10>,\n",
       "  <matplotlib.axis.XTick at 0x259b7984780>,\n",
       "  <matplotlib.axis.XTick at 0x259b7984b00>,\n",
       "  <matplotlib.axis.XTick at 0x259b79843c8>,\n",
       "  <matplotlib.axis.XTick at 0x259b798df28>,\n",
       "  <matplotlib.axis.XTick at 0x259b7995358>,\n",
       "  <matplotlib.axis.XTick at 0x259b7928208>,\n",
       "  <matplotlib.axis.XTick at 0x259b7928a90>,\n",
       "  <matplotlib.axis.XTick at 0x259b77e4e10>,\n",
       "  <matplotlib.axis.XTick at 0x259b7973a58>,\n",
       "  <matplotlib.axis.XTick at 0x259b7973390>,\n",
       "  <matplotlib.axis.XTick at 0x259b7973d68>,\n",
       "  <matplotlib.axis.XTick at 0x259b797e940>,\n",
       "  <matplotlib.axis.XTick at 0x259b7973b00>,\n",
       "  <matplotlib.axis.XTick at 0x259b7928c18>,\n",
       "  <matplotlib.axis.XTick at 0x259b797ee80>,\n",
       "  <matplotlib.axis.XTick at 0x259b797ed30>,\n",
       "  <matplotlib.axis.XTick at 0x259b799d160>,\n",
       "  <matplotlib.axis.XTick at 0x259b799da90>,\n",
       "  <matplotlib.axis.XTick at 0x259b799ddd8>,\n",
       "  <matplotlib.axis.XTick at 0x259b79ad5c0>,\n",
       "  <matplotlib.axis.XTick at 0x259b79ad518>,\n",
       "  <matplotlib.axis.XTick at 0x259b799d278>,\n",
       "  <matplotlib.axis.XTick at 0x259b797efd0>,\n",
       "  <matplotlib.axis.XTick at 0x259b79ad438>,\n",
       "  <matplotlib.axis.XTick at 0x259b79add30>,\n",
       "  <matplotlib.axis.XTick at 0x259b79c0390>,\n",
       "  <matplotlib.axis.XTick at 0x259b79c09e8>,\n",
       "  <matplotlib.axis.XTick at 0x259b79c02b0>,\n",
       "  <matplotlib.axis.XTick at 0x259b7938898>,\n",
       "  <matplotlib.axis.XTick at 0x259b7938208>,\n",
       "  <matplotlib.axis.XTick at 0x259b79389e8>,\n",
       "  <matplotlib.axis.XTick at 0x259b79c02e8>,\n",
       "  <matplotlib.axis.XTick at 0x259b79adcc0>,\n",
       "  <matplotlib.axis.XTick at 0x259b76ddeb8>,\n",
       "  <matplotlib.axis.XTick at 0x259b76dda20>,\n",
       "  <matplotlib.axis.XTick at 0x259b76dd4a8>,\n",
       "  <matplotlib.axis.XTick at 0x259b78669e8>,\n",
       "  <matplotlib.axis.XTick at 0x259b7866a20>,\n",
       "  <matplotlib.axis.XTick at 0x259b7866cf8>,\n",
       "  <matplotlib.axis.XTick at 0x259b78663c8>,\n",
       "  <matplotlib.axis.XTick at 0x259b76dd518>,\n",
       "  <matplotlib.axis.XTick at 0x259b7930b38>,\n",
       "  <matplotlib.axis.XTick at 0x259b7930278>,\n",
       "  <matplotlib.axis.XTick at 0x259b80ec518>,\n",
       "  <matplotlib.axis.XTick at 0x259b80eca20>,\n",
       "  <matplotlib.axis.XTick at 0x259b768d048>,\n",
       "  <matplotlib.axis.XTick at 0x259b768dcf8>,\n",
       "  <matplotlib.axis.XTick at 0x259b768d898>,\n",
       "  <matplotlib.axis.XTick at 0x259b768f550>,\n",
       "  <matplotlib.axis.XTick at 0x259b768df28>,\n",
       "  <matplotlib.axis.XTick at 0x259b7930550>,\n",
       "  <matplotlib.axis.XTick at 0x259b768f668>,\n",
       "  <matplotlib.axis.XTick at 0x259b768fa90>,\n",
       "  <matplotlib.axis.XTick at 0x259b78f8438>,\n",
       "  <matplotlib.axis.XTick at 0x259b78f8630>,\n",
       "  <matplotlib.axis.XTick at 0x259b78f8198>,\n",
       "  <matplotlib.axis.XTick at 0x259b772b630>,\n",
       "  <matplotlib.axis.XTick at 0x259b772b080>,\n",
       "  <matplotlib.axis.XTick at 0x259b78f8d68>,\n",
       "  <matplotlib.axis.XTick at 0x259b768f080>,\n",
       "  <matplotlib.axis.XTick at 0x259b772bbe0>,\n",
       "  <matplotlib.axis.XTick at 0x259b76a88d0>,\n",
       "  <matplotlib.axis.XTick at 0x259b76a89b0>,\n",
       "  <matplotlib.axis.XTick at 0x259b76a8748>,\n",
       "  <matplotlib.axis.XTick at 0x259b785c2e8>],\n",
       " <a list of 100 Text xticklabel objects>)"
      ]
     },
     "execution_count": 51,
     "metadata": {},
     "output_type": "execute_result"
    },
    {
     "data": {
      "image/png": "[encoded data removed]",
      "text/plain": [
       "<Figure size 432x288 with 1 Axes>"
      ]
     },
     "metadata": {
      "needs_background": "light"
     },
     "output_type": "display_data"
    }
   ],
   "source": [
    "objects =  x**2\n",
    "y_pos = np.arange(len(objects))\n",
    "plt.bar(y_pos, y, align='center',width=1 ,alpha=0.5)\n",
    "plt.plot(y_pos, y)\n",
    "plt.xticks(y_pos, objects)"
   ]
  },
  {
   "cell_type": "code",
   "execution_count": null,
   "metadata": {},
   "outputs": [],
   "source": []
  }
 ],
 "metadata": {
  "kernelspec": {
   "display_name": "Python 3",
   "language": "python",
   "name": "python3"
  },
  "language_info": {
   "codemirror_mode": {
    "name": "ipython",
    "version": 3
   },
   "file_extension": ".py",
   "mimetype": "text/x-python",
   "name": "python",
   "nbconvert_exporter": "python",
   "pygments_lexer": "ipython3",
   "version": "3.6.6"
  }
 },
 "nbformat": 4,
 "nbformat_minor": 2
}
